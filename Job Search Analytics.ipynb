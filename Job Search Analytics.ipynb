{
 "cells": [
  {
   "cell_type": "code",
   "execution_count": 1,
   "id": "97de3775",
   "metadata": {},
   "outputs": [],
   "source": [
    "import pandas as pd\n",
    "import re"
   ]
  },
  {
   "cell_type": "code",
   "execution_count": 2,
   "id": "6b1feff9",
   "metadata": {},
   "outputs": [],
   "source": [
    "# Read in the raw job data from a CSV file and store it in a DataFrame\n",
    "jobs_df_raw = pd.read_csv('jobs.csv')"
   ]
  },
  {
   "cell_type": "code",
   "execution_count": 3,
   "id": "c280f3a2",
   "metadata": {},
   "outputs": [],
   "source": [
    "# Define a function to extract the company name from a job link\n",
    "def isolate_company_name(ex):\n",
    "    pattern = r\"(?<=www\\.notion\\.so\\/)[\\w\\s-]+(?=-)\"  # regex pattern to match the company name\n",
    "    result = re.search(pattern, ex).group()  # search for the pattern in the job link and extract the matched substring\n",
    "    ret = result.replace(\"-\",\" \")\n",
    "    return ret  # return the extracted company name\n",
    "\n",
    "# Apply the isolate_company_name function to the 'Company' column of the DataFrame to create a new 'Company Name' column\n",
    "jobs_df_raw['Company Name'] = jobs_df_raw['Company'].apply(isolate_company_name)\n"
   ]
  },
  {
   "cell_type": "code",
   "execution_count": 4,
   "id": "597f7740",
   "metadata": {},
   "outputs": [],
   "source": [
    "jobs_df_raw['Apply Date'] = pd.to_datetime(jobs_df_raw['Apply Date'])\n",
    "jobs_df_raw['Reply Date'] = pd.to_datetime(jobs_df_raw['Reply Date'])"
   ]
  },
  {
   "cell_type": "code",
   "execution_count": 5,
   "id": "f85a6ed0",
   "metadata": {},
   "outputs": [],
   "source": [
    "# Define a list of column names to keep in the output DataFrame\n",
    "cols_to_keep = ['Company Name', 'Job', 'Apply Date', 'Reply Date', 'Result',\n",
    "                'Base Pay', 'Max Pay', 'Link', 'Last Stage', 'Final Decision', 'created']\n",
    "\n",
    "# Create a copy of the original DataFrame that only includes the desired columns\n",
    "jobs_df = jobs_df_raw[cols_to_keep].copy()"
   ]
  },
  {
   "cell_type": "markdown",
   "id": "9d5d2e63",
   "metadata": {},
   "source": [
    "# For Sankey"
   ]
  },
  {
   "cell_type": "code",
   "execution_count": 6,
   "id": "d7c8de6f",
   "metadata": {},
   "outputs": [],
   "source": [
    "filter_job_gone = jobs_df['Result'] == 'Job Gone'\n",
    "filter_applied = ~pd.isnull(jobs_df['Apply Date'])\n",
    "filter_replied = ~pd.isnull(jobs_df['Reply Date'])\n",
    "filter_approved = jobs_df['Result'] == 'Yes'\n",
    "filter_rejected = jobs_df['Result'] == 'No'\n",
    "filter_first_screen = jobs_df['Last Stage'] == 'First Screen'\n",
    "filter_tech_screen = jobs_df['Last Stage'] == 'Tech Screen'\n",
    "filter_self_removal = jobs_df['Final Decision'] == \"Self-removal\"\n",
    "filter_not_selected = jobs_df['Final Decision'] == \"Not selected\"\n",
    "filter_ghosted = jobs_df['Final Decision'] == \"Ghosted\"\n",
    "filter_in_progress = pd.isnull(jobs_df[filter_approved]['Final Decision'])"
   ]
  },
  {
   "cell_type": "code",
   "execution_count": 7,
   "id": "343b50f4",
   "metadata": {},
   "outputs": [],
   "source": [
    "job_info = {'total_job_apps': sum(filter_applied | filter_job_gone),\n",
    "                   'applied': sum(filter_applied),\n",
    "     'job_gone_before_apply': sum(~filter_applied & filter_job_gone),\n",
    "                  'response': sum(filter_replied & ~filter_job_gone),\n",
    "               'no_response': sum(filter_applied & ~filter_replied & ~filter_job_gone),\n",
    "      'job_gone_after_apply': sum(filter_applied & filter_job_gone),\n",
    "                  'approved': sum(filter_approved),\n",
    "                  'rejected': sum(filter_rejected),\n",
    "              'first screen': sum(filter_first_screen),\n",
    "               'tech screen': sum(filter_tech_screen)\n",
    "           }"
   ]
  },
  {
   "cell_type": "code",
   "execution_count": 8,
   "id": "d3f2ee3a",
   "metadata": {},
   "outputs": [],
   "source": [
    "def generate_outcomes_dict(stage):\n",
    "    filter_stage = jobs_df['Last Stage'] == stage\n",
    "    outcome_dict = {'Self Widthdrew': sum(filter_stage & filter_self_removal),\n",
    "                           'Removed': sum(filter_stage & filter_not_selected),\n",
    "                           'Ghosted': sum(filter_stage & filter_ghosted),\n",
    "                       'In Progress': sum(filter_stage & filter_in_progress)}\n",
    "    return outcome_dict"
   ]
  },
  {
   "cell_type": "code",
   "execution_count": 9,
   "id": "ab00aade",
   "metadata": {},
   "outputs": [],
   "source": [
    "all_stages = list(jobs_df['Last Stage'].value_counts().keys())\n",
    "\n",
    "list_of_dicts = {}\n",
    "for x in all_stages:\n",
    "    new_dict = generate_outcomes_dict(x)\n",
    "    list_of_dicts[x] = new_dict"
   ]
  },
  {
   "cell_type": "code",
   "execution_count": 10,
   "id": "5dffcbf2",
   "metadata": {},
   "outputs": [
    {
     "name": "stdout",
     "output_type": "stream",
     "text": [
      ":Job Applications #adadad\n",
      ":Applied #7de6f0\n",
      ":First Screen #75e083\n",
      "\n",
      "Job Applications [414] Applied\n",
      "Job Applications [15] Job Gone Before Apply\n",
      "\n",
      "Applied [219] Response\n",
      "Applied [48] No Response\n",
      "Applied [147] Job Gone After Apply\n",
      "\n",
      "Response [20] Approved\n",
      "Response [203] Rejected\n",
      "\n",
      "Approved [12] First Screen\n",
      "Approved [6] Tech Screen\n",
      "\n",
      "First Screen [4] Self Widthdrew \n",
      "First Screen [5] Removed \n",
      "First Screen [2] Ghosted \n",
      "First Screen [1] In Progress \n",
      "\n",
      "Tech Screen [2] Self Widthdrew \n",
      "Tech Screen [2] Removed \n",
      "Tech Screen [1] Ghosted \n",
      "Tech Screen [1] In Progress \n",
      "\n",
      "On-Site [0] Self Widthdrew \n",
      "On-Site [1] Removed \n",
      "On-Site [0] Ghosted \n",
      "On-Site [0] In Progress \n",
      "\n",
      "\n",
      "https://sankeymatic.com/build/\n"
     ]
    }
   ],
   "source": [
    "def generate_sankey(stat_df):\n",
    "    text = ''':Job Applications #adadad\n",
    ":Applied #7de6f0\n",
    ":First Screen #75e083\n",
    "\n",
    "Job Applications [{app}] Applied\n",
    "Job Applications [{jgba}] Job Gone Before Apply\n",
    "\n",
    "Applied [{res}] Response\n",
    "Applied [{nr}] No Response\n",
    "Applied [{jgaa}] Job Gone After Apply\n",
    "\n",
    "Response [{ap}] Approved\n",
    "Response [{rej}] Rejected\n",
    "\n",
    "Approved [{fs}] First Screen\n",
    "Approved [{ts}] Tech Screen\n",
    "\n",
    "'''.format(tja = stat_df['total_job_apps'],\n",
    "                                    app = stat_df['applied'],\n",
    "                                    jgba = stat_df['job_gone_before_apply'],\n",
    "                                    res = stat_df['response'],\n",
    "                                    nr = stat_df['no_response'],\n",
    "                                    jgaa = stat_df['job_gone_after_apply'],\n",
    "                                    ap = stat_df['approved'],\n",
    "                                    rej = stat_df['rejected'],\n",
    "                                    fs = stat_df['first screen'],\n",
    "                                    ts = stat_df['tech screen'])\n",
    "    \n",
    "    for x in list_of_dicts:\n",
    "        for y in list_of_dicts[x]:\n",
    "            text += f'{x} [{list_of_dicts[x][y]}] {y} \\n'\n",
    "        text+='\\n'\n",
    "\n",
    "    print(text)\n",
    "    print(\"https://sankeymatic.com/build/\")\n",
    "generate_sankey(job_info)"
   ]
  },
  {
   "cell_type": "code",
   "execution_count": null,
   "id": "e75c5e73",
   "metadata": {},
   "outputs": [],
   "source": []
  }
 ],
 "metadata": {
  "kernelspec": {
   "display_name": "Python 3 (ipykernel)",
   "language": "python",
   "name": "python3"
  },
  "language_info": {
   "codemirror_mode": {
    "name": "ipython",
    "version": 3
   },
   "file_extension": ".py",
   "mimetype": "text/x-python",
   "name": "python",
   "nbconvert_exporter": "python",
   "pygments_lexer": "ipython3",
   "version": "3.8.5"
  }
 },
 "nbformat": 4,
 "nbformat_minor": 5
}
